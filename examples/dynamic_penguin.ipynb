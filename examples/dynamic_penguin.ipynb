{
 "cells": [
  {
   "cell_type": "markdown",
   "metadata": {},
   "source": [
    "# Interactive PursuedPyBear -- A minimal tutorial\n",
    "\n",
    "Welcome to the interactive PursuedPyBear tutorial,\n",
    "where we will learn to make games bit-by-bit.\n",
    "PursuedPyBear (PPB) is designed to have little\n",
    "unneeded code,\n",
    "sometimes called\n",
    "\"boilerplate\".\n",
    "However, to tie together Jupyter and PPB,\n",
    "we have to have a few uninteresting lines.\n",
    "\n",
    "Bear, um, with us.\n",
    "The following lines are the only boilerplate,\n",
    "just execute the cell\n",
    "(by clicking CTRL-Enter)\n",
    "and move on."
   ]
  },
  {
   "cell_type": "code",
   "execution_count": 1,
   "metadata": {},
   "outputs": [
    {
     "name": "stdout",
     "output_type": "stream",
     "text": [
      "pygame 1.9.6\n",
      "Hello from the pygame community. https://www.pygame.org/contribute.html\n"
     ]
    }
   ],
   "source": [
    "import asyncio\n",
    "from twisted.internet import asyncioreactor\n",
    "asyncioreactor.install(asyncio.get_event_loop())\n",
    "from twisted.internet import reactor\n",
    "import ppb\n",
    "import txppb\n",
    "__file__ = None"
   ]
  },
  {
   "cell_type": "markdown",
   "metadata": {},
   "source": [
    "That's it.\n",
    "Now,\n",
    "I like penguins,\n",
    "so I want to have a penguin character.\n",
    "We have a file called\n",
    "`penguin.png`\n",
    "with a little cute round penguin.\n",
    "\n",
    "PPB uses the class name to find the right image."
   ]
  },
  {
   "cell_type": "code",
   "execution_count": 2,
   "metadata": {},
   "outputs": [],
   "source": [
    "class Penguin(ppb.Sprite):\n",
    "    pass"
   ]
  },
  {
   "cell_type": "markdown",
   "metadata": {},
   "source": [
    "Well, now we have a Penguin class,\n",
    "boring though it may be,\n",
    "we need to make an\n",
    "*instance*\n",
    "of it.\n",
    "\n",
    "PPB thinks in terms of\n",
    "\"scenes\",\n",
    "so we need to set up a scene,\n",
    "with one penguin in it.\n",
    "\n",
    "We give it a tag:\n",
    "the tag will be useful later."
   ]
  },
  {
   "cell_type": "code",
   "execution_count": 3,
   "metadata": {},
   "outputs": [],
   "source": [
    "def setup(scene):\n",
    "    print(\"wooohooo\")\n",
    "    scene.add(Penguin(pos=(0, 0)), tags=['penguin'])"
   ]
  },
  {
   "cell_type": "markdown",
   "metadata": {},
   "source": [
    "Now we need to run the\n",
    "\"game loop\".\n",
    "This is the loop that,\n",
    "eventually,\n",
    "will look at user actions\n",
    "and will do stuff to the game.\n",
    "\n",
    "Right now,\n",
    "it will just show a penguin.\n",
    "In the middle of the screen.\n",
    "Just sitting there."
   ]
  },
  {
   "cell_type": "code",
   "execution_count": 4,
   "metadata": {},
   "outputs": [
    {
     "name": "stdout",
     "output_type": "stream",
     "text": [
      "wooohooo\n"
     ]
    },
    {
     "data": {
      "text/plain": [
       "<Deferred at 0x7fe7a40370d0>"
      ]
     },
     "execution_count": 4,
     "metadata": {},
     "output_type": "execute_result"
    }
   ],
   "source": [
    "d = txppb.run(setup, reactor)\n",
    "d.addBoth(print)"
   ]
  },
  {
   "cell_type": "markdown",
   "metadata": {},
   "source": [
    "This is really boring, right?\n",
    "The penguin is just sitting there.\n",
    "\n",
    "Let's make it do something.\n",
    "Maybe go up?\n",
    "But slowly, so we can keep an eye on it."
   ]
  },
  {
   "cell_type": "code",
   "execution_count": 5,
   "metadata": {},
   "outputs": [],
   "source": [
    "Penguin.speed = 0.5\n",
    "def Penguin_on_update(self, update_event, signal):\n",
    "        global SCENE\n",
    "        SCENE = update_event.scene\n",
    "        self.position += (0, self.speed * update_event.time_delta)\n",
    "Penguin.on_update = Penguin_on_update"
   ]
  },
  {
   "cell_type": "markdown",
   "metadata": {},
   "source": [
    "Now, let's make the penguin move down.\n",
    "We just need to change the speed to a negative number.\n",
    "(If you took a while to execute the next cell,\n",
    "and the penguin is off the screen,\n",
    "you will have to wait while it slowly moves back into the\n",
    "visible area.)"
   ]
  },
  {
   "cell_type": "code",
   "execution_count": 6,
   "metadata": {},
   "outputs": [],
   "source": [
    "Penguin.speed = -0.5"
   ]
  },
  {
   "cell_type": "markdown",
   "metadata": {},
   "source": [
    "The penguin is probably tired by now.\n",
    "Let's change speed to 0 so it can stay in place."
   ]
  },
  {
   "cell_type": "code",
   "execution_count": 6,
   "metadata": {},
   "outputs": [],
   "source": [
    "Penguin.speed = 0"
   ]
  },
  {
   "cell_type": "code",
   "execution_count": 9,
   "metadata": {},
   "outputs": [
    {
     "data": {
      "text/plain": [
       "{'game_objects': <ppb.scenes.GameObjectCollection at 0x7fe792a45590>}"
      ]
     },
     "execution_count": 9,
     "metadata": {},
     "output_type": "execute_result"
    }
   ],
   "source": [
    "SCENE.__dict__"
   ]
  },
  {
   "cell_type": "code",
   "execution_count": 11,
   "metadata": {},
   "outputs": [
    {
     "data": {
      "text/plain": [
       "{'all': {<__main__.Penguin at 0x7fe792a454d0>,\n",
       "  <ppb.camera.Camera at 0x7fe792a45890>},\n",
       " 'kinds': defaultdict(set,\n",
       "             {ppb.camera.Camera: {<ppb.camera.Camera at 0x7fe792a45890>},\n",
       "              ppb.sprites.Sprite: {<__main__.Penguin at 0x7fe792a454d0>,\n",
       "               <ppb.camera.Camera at 0x7fe792a45890>},\n",
       "              ppb.sprites.SquareShapeMixin: {<__main__.Penguin at 0x7fe792a454d0>,\n",
       "               <ppb.camera.Camera at 0x7fe792a45890>},\n",
       "              ppb.sprites.RenderableMixin: {<__main__.Penguin at 0x7fe792a454d0>,\n",
       "               <ppb.camera.Camera at 0x7fe792a45890>},\n",
       "              ppb.sprites.RotatableMixin: {<__main__.Penguin at 0x7fe792a454d0>,\n",
       "               <ppb.camera.Camera at 0x7fe792a45890>},\n",
       "              ppb.sprites.BaseSprite: {<__main__.Penguin at 0x7fe792a454d0>,\n",
       "               <ppb.camera.Camera at 0x7fe792a45890>},\n",
       "              ppb.eventlib.EventMixin: {<__main__.Penguin at 0x7fe792a454d0>,\n",
       "               <ppb.camera.Camera at 0x7fe792a45890>},\n",
       "              object: {<__main__.Penguin at 0x7fe792a454d0>,\n",
       "               <ppb.camera.Camera at 0x7fe792a45890>},\n",
       "              __main__.Penguin: {<__main__.Penguin at 0x7fe792a454d0>}}),\n",
       " 'tags': defaultdict(set,\n",
       "             {'main_camera': {<ppb.camera.Camera at 0x7fe792a45890>},\n",
       "              'penguin': {<__main__.Penguin at 0x7fe792a454d0>}})}"
      ]
     },
     "execution_count": 11,
     "metadata": {},
     "output_type": "execute_result"
    }
   ],
   "source": [
    "SCENE.game_objects.__dict__"
   ]
  },
  {
   "cell_type": "code",
   "execution_count": 12,
   "metadata": {},
   "outputs": [],
   "source": [
    "cam, = SCENE.get(kind=ppb.camera.Camera)"
   ]
  },
  {
   "cell_type": "code",
   "execution_count": 14,
   "metadata": {},
   "outputs": [
    {
     "data": {
      "text/plain": [
       "{'position': Vector(0.0, 0.0),\n",
       " 'size': 0,\n",
       " 'viewport_origin': Vector(0.0, 0.0),\n",
       " '_viewport_width': 800,\n",
       " '_viewport_height': 600,\n",
       " 'viewport_offset': Vector(400.0, 300.0),\n",
       " 'pixel_ratio': 64}"
      ]
     },
     "execution_count": 14,
     "metadata": {},
     "output_type": "execute_result"
    },
    {
     "name": "stdout",
     "output_type": "stream",
     "text": [
      "None\n"
     ]
    }
   ],
   "source": [
    "cam.__dict__"
   ]
  },
  {
   "cell_type": "code",
   "execution_count": null,
   "metadata": {},
   "outputs": [],
   "source": []
  }
 ],
 "metadata": {
  "kernelspec": {
   "display_name": "Python 3",
   "language": "python",
   "name": "python3"
  },
  "language_info": {
   "codemirror_mode": {
    "name": "ipython",
    "version": 3
   },
   "file_extension": ".py",
   "mimetype": "text/x-python",
   "name": "python",
   "nbconvert_exporter": "python",
   "pygments_lexer": "ipython3",
   "version": "3.7.5"
  }
 },
 "nbformat": 4,
 "nbformat_minor": 2
}
