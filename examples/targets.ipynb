{
 "cells": [
  {
   "cell_type": "code",
   "execution_count": 1,
   "metadata": {},
   "outputs": [],
   "source": [
    "import asyncio\n",
    "from twisted.internet import asyncioreactor\n",
    "asyncioreactor.install(asyncio.get_event_loop())\n",
    "from twisted.internet import reactor"
   ]
  },
  {
   "cell_type": "code",
   "execution_count": 2,
   "metadata": {},
   "outputs": [
    {
     "name": "stdout",
     "output_type": "stream",
     "text": [
      "pygame 1.9.6\n",
      "Hello from the pygame community. https://www.pygame.org/contribute.html\n"
     ]
    }
   ],
   "source": [
    "import ppb\n",
    "from ppb import Vector\n",
    "\n",
    "class MoverMixin(ppb.BaseSprite):\n",
    "    velocity = Vector(0, 0)\n",
    "\n",
    "    def on_update(self, update, signal):\n",
    "        self.position += self.velocity * update.time_delta"
   ]
  },
  {
   "cell_type": "code",
   "execution_count": 3,
   "metadata": {},
   "outputs": [],
   "source": [
    "class Bullet(MoverMixin, ppb.BaseSprite):\n",
    "    velocity = Vector(0, 2)\n",
    "    _rotation = 180\n",
    "\n",
    "    def on_update(self, update, signal):\n",
    "        super().on_update(update, signal)  # Execute movement\n",
    "\n",
    "        scene = update.scene\n",
    "        \n",
    "        if self.position.y > scene.main_camera.frame_bottom:\n",
    "            scene.remove(self)\n",
    "        else:\n",
    "            for target in scene.get(tag='target'):\n",
    "                d = (target.position - self.position).length\n",
    "                if d <= target.radius:\n",
    "                    scene.remove(self)\n",
    "                    scene.remove(target)\n",
    "                    break"
   ]
  },
  {
   "cell_type": "code",
   "execution_count": 4,
   "metadata": {},
   "outputs": [],
   "source": [
    "class Target(ppb.BaseSprite):\n",
    "    radius = 0.5"
   ]
  },
  {
   "cell_type": "code",
   "execution_count": 5,
   "metadata": {},
   "outputs": [],
   "source": [
    "from ppb import keycodes\n",
    "\n",
    "class Player(MoverMixin, ppb.BaseSprite):\n",
    "    # We handle movement by mapping each key to a velocity vector\n",
    "    # and adding it on press and subtracting it on release.\n",
    "    left_vector = Vector(-1, 0)\n",
    "    right_vector = Vector(1, 0)\n",
    "    _rotation = 180\n",
    "\n",
    "    def on_key_pressed(self, event, signal):\n",
    "        if event.key in (keycodes.A, keycodes.Left):\n",
    "            self.velocity += self.left_vector\n",
    "        elif event.key in (keycodes.D, keycodes.Right):\n",
    "            self.velocity += self.right_vector\n",
    "        elif event.key is keycodes.Space:\n",
    "            self._fire_bullet(event.scene)\n",
    "\n",
    "    def on_key_released(self, event, signal):\n",
    "        if event.key in (keycodes.A, keycodes.Left):\n",
    "            self.velocity -= self.left_vector\n",
    "        elif event.key in (keycodes.D, keycodes.Right):\n",
    "            self.velocity -= self.right_vector\n",
    "\n",
    "    def on_button_pressed(self, event, signal):\n",
    "        if event.button is ppb.buttons.Primary:\n",
    "            self._fire_bullet(event.scene)\n",
    "\n",
    "    def _fire_bullet(self, scene):\n",
    "        scene.add(\n",
    "            Bullet(pos=self.position),\n",
    "                tags=['bullet']\n",
    "        )"
   ]
  },
  {
   "cell_type": "code",
   "execution_count": 6,
   "metadata": {},
   "outputs": [],
   "source": [
    "import klein\n",
    "from dataclasses import dataclass\n",
    "from typing import Any\n",
    "from twisted.internet import task, endpoints\n",
    "from twisted.web.server import Site\n",
    "\n",
    "@dataclass(eq=False)\n",
    "class TargetCounter(object):\n",
    "\n",
    "    scene: Any\n",
    "\n",
    "    app = klein.Klein()\n",
    "\n",
    "    @app.route('/')\n",
    "    def count(self, request):\n",
    "        live = sum(1 for x in self.scene.get(tag='target'))\n",
    "        return str(live)\n",
    "\n",
    "    @classmethod\n",
    "    def web_server(cls, reactor, scene, description):\n",
    "        ep = endpoints.serverFromString(reactor, description)\n",
    "        counter = cls(scene)\n",
    "        return reactor.callWhenRunning(ep.listen, Site(counter.app.resource()))"
   ]
  },
  {
   "cell_type": "code",
   "execution_count": 7,
   "metadata": {},
   "outputs": [],
   "source": [
    "def setup(reactor, scene):\n",
    "    scene.add(Player(pos=Vector(0, 0)), tags=['player'])\n",
    "\n",
    "    # 5 targets in x = -3.75 -> 3.75, with margin\n",
    "    for x in (-3, -1.5, 0, 1.5, 3):\n",
    "        scene.add(Target(pos=Vector(x, 1.875)), tags=['target'])\n",
    "\n",
    "    TargetCounter.web_server(\n",
    "        reactor=reactor,\n",
    "        scene=scene,\n",
    "        description=\"tcp:8080\"\n",
    "    )"
   ]
  },
  {
   "cell_type": "code",
   "execution_count": 8,
   "metadata": {},
   "outputs": [],
   "source": [
    "import txppb"
   ]
  },
  {
   "cell_type": "code",
   "execution_count": 9,
   "metadata": {},
   "outputs": [],
   "source": [
    "d = txppb.run(reactor, setup)"
   ]
  },
  {
   "cell_type": "code",
   "execution_count": 14,
   "metadata": {},
   "outputs": [
    {
     "data": {
      "text/plain": [
       "<Deferred at 0x7f1d8de30dd8>"
      ]
     },
     "execution_count": 14,
     "metadata": {},
     "output_type": "execute_result"
    },
    {
     "name": "stdout",
     "output_type": "stream",
     "text": [
      "None\n"
     ]
    }
   ],
   "source": [
    "d.addBoth(print)"
   ]
  },
  {
   "cell_type": "code",
   "execution_count": null,
   "metadata": {},
   "outputs": [],
   "source": []
  }
 ],
 "metadata": {
  "kernelspec": {
   "display_name": "Python 3",
   "language": "python",
   "name": "python3"
  },
  "language_info": {
   "codemirror_mode": {
    "name": "ipython",
    "version": 3
   },
   "file_extension": ".py",
   "mimetype": "text/x-python",
   "name": "python",
   "nbconvert_exporter": "python",
   "pygments_lexer": "ipython3",
   "version": "3.7.3"
  }
 },
 "nbformat": 4,
 "nbformat_minor": 2
}
